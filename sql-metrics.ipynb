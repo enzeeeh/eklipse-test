{
 "cells": [
  {
   "cell_type": "code",
   "execution_count": 2,
   "id": "03a4064d",
   "metadata": {},
   "outputs": [],
   "source": [
    "import duckdb\n",
    "\n",
    "# Directly query CSV without converting to DataFrame first\n",
    "con = duckdb.connect()"
   ]
  },
  {
   "cell_type": "code",
   "execution_count": 4,
   "id": "36ae4258",
   "metadata": {},
   "outputs": [
    {
     "name": "stdout",
     "output_type": "stream",
     "text": [
      "             id  user_id  gamesession_Id  clip_type_id  duration  \\\n",
      "0  134469944895  3095890     103039886.0             5        60   \n",
      "1  134470123490  3095890     103039886.0             5        60   \n",
      "2  134470573860  2844164     100738061.0             2        10   \n",
      "\n",
      "     event_name          game_name          created_at             join_at  \n",
      "0  High Comment        Other Games 2023-06-01 12:00:21 2023-01-29 15:16:25  \n",
      "1  High Comment        Other Games 2023-06-01 12:00:45 2023-01-29 15:16:25  \n",
      "2          None  World of Warcraft 2023-06-01 12:01:47 2023-03-10 23:27:14  \n",
      "          id  user_Id       clip_id  gamesession_Id          game_name  \\\n",
      "0  556784158  2844164  134463515475     100738061.0  World of Warcraft   \n",
      "1  556784256  2844164  134464540455     100738061.0  World of Warcraft   \n",
      "2  556784354  2844164  134466310875     100738061.0  World of Warcraft   \n",
      "\n",
      "  event_name          created_at             join_at  \n",
      "0       None 2023-06-01 12:20:56 2023-03-10 23:27:14  \n",
      "1       None 2023-06-01 12:20:57 2023-03-10 23:27:14  \n",
      "2       None 2023-06-01 12:21:00 2023-03-10 23:27:14  \n",
      "         id  user_id  duration       submited_date          created_at  \\\n",
      "0  96886552  2580232   7163086 2023-06-01 18:06:00 2023-05-19 06:36:39   \n",
      "1  97882905  3198820   7249588 2023-06-05 05:09:28 2023-05-21 09:49:01   \n",
      "2  98018265  2989826  34588468 2023-06-02 13:43:37 2023-05-21 14:56:00   \n",
      "\n",
      "           game_name              join_at  \n",
      "0        Other Games  2023-02-24 13:59:30  \n",
      "1  League of Legends  2023-04-27 21:48:57  \n",
      "2        Other Games  2023-02-28 20:27:40  \n",
      "   user_id  starts_at    ends_at          created_at          updated_at  \\\n",
      "0  3119140 2023-01-02 2023-03-03 2023-01-03 02:12:37 2023-03-04 00:00:18   \n",
      "1  2921015 2023-01-04 2023-02-04 2023-01-04 07:02:52 2023-02-05 00:00:16   \n",
      "2  4501997 2023-01-10 2023-05-11 2023-01-11 03:11:23 2023-05-12 00:00:07   \n",
      "\n",
      "  canceled_at             join_at  \n",
      "0  2023-02-09 2023-10-10 05:49:30  \n",
      "1  2023-01-09 2023-03-31 00:17:45  \n",
      "2         NaT 2023-08-10 00:51:44  \n",
      "   user_id       clip_id  gamesession_Id     game_name event_name  \\\n",
      "0  1377027  134463197110     101121252.0  Apex Legends       None   \n",
      "1  1377027  134463197110     101121252.0  Apex Legends       None   \n",
      "2  4727411  133758065225     101171965.0   Other Games       None   \n",
      "\n",
      "           created_at        scheduled_at             join_at  \n",
      "0 2023-06-01 17:26:19 2023-06-01 22:30:00 2023-04-23 22:47:48  \n",
      "1 2023-06-01 17:27:11 2023-06-01 22:30:00 2023-04-23 22:47:48  \n",
      "2 2023-06-01 19:50:27 2023-06-01 19:50:27 2023-03-18 12:32:25  \n"
     ]
    }
   ],
   "source": [
    "# Create connection\n",
    "con = duckdb.connect()\n",
    "\n",
    "# Check first CSV\n",
    "query1 = \"SELECT * FROM 'clips.csv' LIMIT 3\"\n",
    "df1 = con.execute(query1).df()\n",
    "print(df1)\n",
    "\n",
    "# Check second CSV\n",
    "query2 = \"SELECT * FROM 'downloaded_clips.csv' LIMIT 3\"\n",
    "df2 = con.execute(query2).df()\n",
    "print(df2)\n",
    "\n",
    "# Check third CSV\n",
    "query3 = \"SELECT * FROM 'gamesession.csv' LIMIT 3\"\n",
    "df3 = con.execute(query3).df()\n",
    "print(df3)\n",
    "\n",
    "# Check fourth CSV\n",
    "query4 = \"SELECT * FROM 'premium.csv' LIMIT 3\"\n",
    "df4 = con.execute(query4).df()\n",
    "print(df4)\n",
    "\n",
    "# Check fifth CSV\n",
    "query5 = \"SELECT * FROM 'shared_clips.csv' LIMIT 3\"\n",
    "df5 = con.execute(query5).df()\n",
    "print(df5)"
   ]
  },
  {
   "cell_type": "markdown",
   "id": "d2944186",
   "metadata": {},
   "source": [
    "# Segmentation of Eklipse Business Metrics"
   ]
  },
  {
   "cell_type": "markdown",
   "id": "d72572ba",
   "metadata": {},
   "source": [
    "## 1. User Engagement & Activity:"
   ]
  },
  {
   "cell_type": "markdown",
   "id": "31d0d2c8",
   "metadata": {},
   "source": [
    "### - Monthly Active Users (MAU):"
   ]
  },
  {
   "cell_type": "markdown",
   "id": "7e14a936",
   "metadata": {},
   "source": [
    "            Tracks the total unique users engaging with any part of the platform. In this context, a user is considered \"active\" if \n",
    "            they perform any of the following actions within a given month:\n",
    "\n",
    "            - Submitting a gamesession (from the gamesession table)\n",
    "\n",
    "            - Creating a clip (from the clips table)\n",
    "\n",
    "            - Downloading a clip (from the downloaded_clips table)\n",
    "\n",
    "            - Sharing a clip (from the shared_clips table)"
   ]
  },
  {
   "cell_type": "code",
   "execution_count": 6,
   "id": "a3d8e3f6",
   "metadata": {},
   "outputs": [
    {
     "data": {
      "text/html": [
       "<div>\n",
       "<style scoped>\n",
       "    .dataframe tbody tr th:only-of-type {\n",
       "        vertical-align: middle;\n",
       "    }\n",
       "\n",
       "    .dataframe tbody tr th {\n",
       "        vertical-align: top;\n",
       "    }\n",
       "\n",
       "    .dataframe thead th {\n",
       "        text-align: right;\n",
       "    }\n",
       "</style>\n",
       "<table border=\"1\" class=\"dataframe\">\n",
       "  <thead>\n",
       "    <tr style=\"text-align: right;\">\n",
       "      <th></th>\n",
       "      <th>month</th>\n",
       "      <th>monthly_active_users</th>\n",
       "    </tr>\n",
       "  </thead>\n",
       "  <tbody>\n",
       "    <tr>\n",
       "      <th>0</th>\n",
       "      <td>2023-06-01</td>\n",
       "      <td>1103</td>\n",
       "    </tr>\n",
       "    <tr>\n",
       "      <th>1</th>\n",
       "      <td>2023-07-01</td>\n",
       "      <td>988</td>\n",
       "    </tr>\n",
       "    <tr>\n",
       "      <th>2</th>\n",
       "      <td>2023-08-01</td>\n",
       "      <td>1074</td>\n",
       "    </tr>\n",
       "    <tr>\n",
       "      <th>3</th>\n",
       "      <td>2023-09-01</td>\n",
       "      <td>1220</td>\n",
       "    </tr>\n",
       "    <tr>\n",
       "      <th>4</th>\n",
       "      <td>2023-10-01</td>\n",
       "      <td>1332</td>\n",
       "    </tr>\n",
       "    <tr>\n",
       "      <th>5</th>\n",
       "      <td>2023-11-01</td>\n",
       "      <td>1228</td>\n",
       "    </tr>\n",
       "    <tr>\n",
       "      <th>6</th>\n",
       "      <td>2023-12-01</td>\n",
       "      <td>1182</td>\n",
       "    </tr>\n",
       "  </tbody>\n",
       "</table>\n",
       "</div>"
      ],
      "text/plain": [
       "       month  monthly_active_users\n",
       "0 2023-06-01                  1103\n",
       "1 2023-07-01                   988\n",
       "2 2023-08-01                  1074\n",
       "3 2023-09-01                  1220\n",
       "4 2023-10-01                  1332\n",
       "5 2023-11-01                  1228\n",
       "6 2023-12-01                  1182"
      ]
     },
     "metadata": {},
     "output_type": "display_data"
    }
   ],
   "source": [
    "query1 = '''\n",
    "SELECT\n",
    "    DATE_TRUNC('month', activity.activity_date) AS month,\n",
    "    COUNT(DISTINCT activity.user_id) AS monthly_active_users\n",
    "FROM (\n",
    "    SELECT\n",
    "        user_id,\n",
    "        submited_date AS activity_date\n",
    "    FROM 'gamesession.csv'\n",
    "    WHERE submited_date IS NOT NULL\n",
    "\n",
    "    UNION ALL\n",
    "\n",
    "    SELECT\n",
    "        user_id,\n",
    "        created_at AS activity_date\n",
    "    FROM 'clips.csv'\n",
    "    WHERE created_at IS NOT NULL\n",
    "\n",
    "    UNION ALL\n",
    "\n",
    "    SELECT\n",
    "        user_id,\n",
    "        created_at AS activity_date\n",
    "    FROM 'downloaded_clips.csv'\n",
    "    WHERE created_at IS NOT NULL\n",
    "\n",
    "    UNION ALL\n",
    "\n",
    "    SELECT\n",
    "        user_id,\n",
    "        created_at AS activity_date\n",
    "    FROM 'shared_clips.csv'\n",
    "    WHERE created_at IS NOT NULL\n",
    ") AS activity\n",
    "GROUP BY\n",
    "    month\n",
    "ORDER BY\n",
    "    month;\n",
    "'''\n",
    "result1 = con.execute(query1).df()\n",
    "display(result1)"
   ]
  },
  {
   "cell_type": "code",
   "execution_count": 9,
   "id": "3566e51f",
   "metadata": {},
   "outputs": [
    {
     "data": {
      "image/png": "[encoded data removed]",
      "text/plain": [
       "<Figure size 600x300 with 1 Axes>"
      ]
     },
     "metadata": {},
     "output_type": "display_data"
    }
   ],
   "source": [
    "import pandas as pd\n",
    "import matplotlib.pyplot as plt\n",
    "\n",
    "result1['month'] = pd.to_datetime(result1['month'])\n",
    "result1 = result1.sort_values(by='month')\n",
    "\n",
    "# Create the line chart\n",
    "plt.figure(figsize=(6, 3)) # Set the figure size for better readability\n",
    "plt.plot(result1['month'], result1['monthly_active_users'], marker='o', linestyle='-', color='#1f77b4', linewidth=2)\n",
    "\n",
    "# Add title and labels\n",
    "plt.title('Monthly Active Users (MAU) Over Time', fontsize=18, fontweight='bold')\n",
    "plt.xlabel('Month', fontsize=6)\n",
    "plt.ylabel('Number of Active Users', fontsize=14)\n",
    "\n",
    "# Customize grid and ticks for better readability\n",
    "plt.grid(True, linestyle='--', alpha=0.7)\n",
    "plt.xticks(rotation=45, ha='right', fontsize=6) # Rotate x-axis labels for readability\n",
    "plt.yticks(fontsize=6)\n",
    "\n",
    "# Improve layout to prevent labels from overlapping\n",
    "plt.tight_layout()\n",
    "\n",
    "# Save the plot to a file\n",
    "plt.savefig('monthly_active_users_line_chart.png')"
   ]
  },
  {
   "cell_type": "markdown",
   "id": "1a13ac72",
   "metadata": {},
   "source": [
    "### - Gamesession Submission Volume (Monthly)"
   ]
  },
  {
   "cell_type": "markdown",
   "id": "aa58fb49",
   "metadata": {},
   "source": [
    "we'll count gamesessions that have resulted in at least one clip. "
   ]
  },
  {
   "cell_type": "code",
   "execution_count": 10,
   "id": "65d12ce5",
   "metadata": {},
   "outputs": [
    {
     "data": {
      "text/html": [
       "<div>\n",
       "<style scoped>\n",
       "    .dataframe tbody tr th:only-of-type {\n",
       "        vertical-align: middle;\n",
       "    }\n",
       "\n",
       "    .dataframe tbody tr th {\n",
       "        vertical-align: top;\n",
       "    }\n",
       "\n",
       "    .dataframe thead th {\n",
       "        text-align: right;\n",
       "    }\n",
       "</style>\n",
       "<table border=\"1\" class=\"dataframe\">\n",
       "  <thead>\n",
       "    <tr style=\"text-align: right;\">\n",
       "      <th></th>\n",
       "      <th>submission_month</th>\n",
       "      <th>gamesession_submitted_with_clips</th>\n",
       "    </tr>\n",
       "  </thead>\n",
       "  <tbody>\n",
       "    <tr>\n",
       "      <th>0</th>\n",
       "      <td>2023-06-01</td>\n",
       "      <td>6021</td>\n",
       "    </tr>\n",
       "    <tr>\n",
       "      <th>1</th>\n",
       "      <td>2023-07-01</td>\n",
       "      <td>5474</td>\n",
       "    </tr>\n",
       "    <tr>\n",
       "      <th>2</th>\n",
       "      <td>2023-08-01</td>\n",
       "      <td>5324</td>\n",
       "    </tr>\n",
       "    <tr>\n",
       "      <th>3</th>\n",
       "      <td>2023-09-01</td>\n",
       "      <td>6111</td>\n",
       "    </tr>\n",
       "    <tr>\n",
       "      <th>4</th>\n",
       "      <td>2023-10-01</td>\n",
       "      <td>5794</td>\n",
       "    </tr>\n",
       "    <tr>\n",
       "      <th>5</th>\n",
       "      <td>2023-11-01</td>\n",
       "      <td>4778</td>\n",
       "    </tr>\n",
       "    <tr>\n",
       "      <th>6</th>\n",
       "      <td>2023-12-01</td>\n",
       "      <td>3066</td>\n",
       "    </tr>\n",
       "  </tbody>\n",
       "</table>\n",
       "</div>"
      ],
      "text/plain": [
       "  submission_month  gamesession_submitted_with_clips\n",
       "0       2023-06-01                              6021\n",
       "1       2023-07-01                              5474\n",
       "2       2023-08-01                              5324\n",
       "3       2023-09-01                              6111\n",
       "4       2023-10-01                              5794\n",
       "5       2023-11-01                              4778\n",
       "6       2023-12-01                              3066"
      ]
     },
     "metadata": {},
     "output_type": "display_data"
    }
   ],
   "source": [
    "query2 = '''\n",
    "SELECT\n",
    "    DATE_TRUNC('month', gs.submited_date) AS submission_month,\n",
    "    COUNT(DISTINCT gs.id) AS gamesession_submitted_with_clips\n",
    "FROM\n",
    "    'gamesession.csv' AS gs\n",
    "JOIN\n",
    "    'clips.csv' AS c ON gs.id = c.gamesession_Id\n",
    "WHERE\n",
    "    gs.submited_date IS NOT NULL\n",
    "GROUP BY\n",
    "    submission_month\n",
    "ORDER BY\n",
    "    submission_month;\n",
    "'''\n",
    "result2 = con.execute(query2).df()\n",
    "display(result2)"
   ]
  },
  {
   "cell_type": "code",
   "execution_count": 11,
   "id": "8b7e706a",
   "metadata": {},
   "outputs": [
    {
     "data": {
      "image/png": "[encoded data removed]",
      "text/plain": [
       "<Figure size 600x300 with 1 Axes>"
      ]
     },
     "metadata": {},
     "output_type": "display_data"
    }
   ],
   "source": [
    "result2['submission_month'] = pd.to_datetime(result2['submission_month'])\n",
    "result2 = result2.sort_values(by='submission_month')\n",
    "\n",
    "# Create the line chart for Gamesession Submission Volume\n",
    "plt.figure(figsize=(6, 3))\n",
    "plt.plot(result2['submission_month'], result2['gamesession_submitted_with_clips'],\n",
    "         marker='o', linestyle='-', color='#2ca02c', linewidth=2)\n",
    "\n",
    "# Add title and labels\n",
    "plt.title('Monthly Gamesession Submission Volume (Leading to Clips)', fontsize=6, fontweight='bold')\n",
    "plt.xlabel('Submission Month', fontsize=6)\n",
    "plt.ylabel('Number of Submitted Gamesessions', fontsize=14)\n",
    "\n",
    "# Customize grid and ticks for better readability\n",
    "plt.grid(True, linestyle='--', alpha=0.7)\n",
    "plt.xticks(rotation=45, ha='right', fontsize=6) # Rotate x-axis labels for readability\n",
    "plt.yticks(fontsize=6)\n",
    "\n",
    "# Improve layout to prevent labels from overlapping\n",
    "plt.tight_layout()\n",
    "\n",
    "# Save the plot to a file\n",
    "plt.savefig('gamesession_submission_volume_line_chart.png')"
   ]
  },
  {
   "cell_type": "markdown",
   "id": "0356088a",
   "metadata": {},
   "source": [
    "## 2. Content & Product Performance:"
   ]
  },
  {
   "cell_type": "markdown",
   "id": "37678a3c",
   "metadata": {},
   "source": [
    "### - Clip Download Rate: "
   ]
  },
  {
   "cell_type": "markdown",
   "id": "14a006cf",
   "metadata": {},
   "source": [
    "Indicates the value users find in the generated clips (are they downloading them?)."
   ]
  },
  {
   "cell_type": "code",
   "execution_count": 16,
   "id": "06a41a6e",
   "metadata": {},
   "outputs": [
    {
     "data": {
      "text/html": [
       "<div>\n",
       "<style scoped>\n",
       "    .dataframe tbody tr th:only-of-type {\n",
       "        vertical-align: middle;\n",
       "    }\n",
       "\n",
       "    .dataframe tbody tr th {\n",
       "        vertical-align: top;\n",
       "    }\n",
       "\n",
       "    .dataframe thead th {\n",
       "        text-align: right;\n",
       "    }\n",
       "</style>\n",
       "<table border=\"1\" class=\"dataframe\">\n",
       "  <thead>\n",
       "    <tr style=\"text-align: right;\">\n",
       "      <th></th>\n",
       "      <th>month</th>\n",
       "      <th>generated_clips_count</th>\n",
       "      <th>downloaded_clips_count</th>\n",
       "      <th>clip_download_rate_percentage</th>\n",
       "    </tr>\n",
       "  </thead>\n",
       "  <tbody>\n",
       "    <tr>\n",
       "      <th>0</th>\n",
       "      <td>2023-06-01</td>\n",
       "      <td>81789</td>\n",
       "      <td>1462</td>\n",
       "      <td>1.788</td>\n",
       "    </tr>\n",
       "    <tr>\n",
       "      <th>1</th>\n",
       "      <td>2023-07-01</td>\n",
       "      <td>77776</td>\n",
       "      <td>1541</td>\n",
       "      <td>1.981</td>\n",
       "    </tr>\n",
       "    <tr>\n",
       "      <th>2</th>\n",
       "      <td>2023-08-01</td>\n",
       "      <td>80231</td>\n",
       "      <td>1378</td>\n",
       "      <td>1.718</td>\n",
       "    </tr>\n",
       "    <tr>\n",
       "      <th>3</th>\n",
       "      <td>2023-09-01</td>\n",
       "      <td>87737</td>\n",
       "      <td>1812</td>\n",
       "      <td>2.065</td>\n",
       "    </tr>\n",
       "    <tr>\n",
       "      <th>4</th>\n",
       "      <td>2023-10-01</td>\n",
       "      <td>88862</td>\n",
       "      <td>2573</td>\n",
       "      <td>2.896</td>\n",
       "    </tr>\n",
       "    <tr>\n",
       "      <th>5</th>\n",
       "      <td>2023-11-01</td>\n",
       "      <td>82608</td>\n",
       "      <td>2487</td>\n",
       "      <td>3.011</td>\n",
       "    </tr>\n",
       "    <tr>\n",
       "      <th>6</th>\n",
       "      <td>2023-12-01</td>\n",
       "      <td>53028</td>\n",
       "      <td>1682</td>\n",
       "      <td>3.172</td>\n",
       "    </tr>\n",
       "  </tbody>\n",
       "</table>\n",
       "</div>"
      ],
      "text/plain": [
       "       month  generated_clips_count  downloaded_clips_count  \\\n",
       "0 2023-06-01                  81789                    1462   \n",
       "1 2023-07-01                  77776                    1541   \n",
       "2 2023-08-01                  80231                    1378   \n",
       "3 2023-09-01                  87737                    1812   \n",
       "4 2023-10-01                  88862                    2573   \n",
       "5 2023-11-01                  82608                    2487   \n",
       "6 2023-12-01                  53028                    1682   \n",
       "\n",
       "   clip_download_rate_percentage  \n",
       "0                          1.788  \n",
       "1                          1.981  \n",
       "2                          1.718  \n",
       "3                          2.065  \n",
       "4                          2.896  \n",
       "5                          3.011  \n",
       "6                          3.172  "
      ]
     },
     "metadata": {},
     "output_type": "display_data"
    }
   ],
   "source": [
    "query3 = '''\n",
    "WITH MonthlyGeneratedClips AS (\n",
    "    SELECT\n",
    "        DATE_TRUNC('month', created_at) AS month,\n",
    "        COUNT(DISTINCT id) AS generated_clips_count\n",
    "    FROM\n",
    "        'clips.csv'\n",
    "    WHERE\n",
    "        created_at IS NOT NULL\n",
    "    GROUP BY\n",
    "        1\n",
    "),\n",
    "MonthlyDownloadedClips AS (\n",
    "    SELECT\n",
    "        DATE_TRUNC('month', created_at) AS month,\n",
    "        COUNT(DISTINCT clip_id) AS downloaded_clips_count\n",
    "    FROM\n",
    "        'downloaded_clips.csv'\n",
    "    WHERE\n",
    "        created_at IS NOT NULL\n",
    "    GROUP BY\n",
    "        1\n",
    ")\n",
    "SELECT\n",
    "    mgc.month,\n",
    "    mgc.generated_clips_count,\n",
    "    mdc.downloaded_clips_count,\n",
    "    CASE\n",
    "        WHEN mgc.generated_clips_count > 0 THEN ROUND(CAST(mdc.downloaded_clips_count AS REAL) * 100.0 / mgc.generated_clips_count, 3)\n",
    "        ELSE 0 -- Handle cases where no clips were generated to avoid division by zero\n",
    "    END AS clip_download_rate_percentage\n",
    "FROM\n",
    "    MonthlyGeneratedClips AS mgc\n",
    "JOIN\n",
    "    MonthlyDownloadedClips AS mdc ON mgc.month = mdc.month\n",
    "ORDER BY\n",
    "    mgc.month;\n",
    "'''\n",
    "result3 = con.execute(query3).df()\n",
    "display(result3)"
   ]
  },
  {
   "cell_type": "code",
   "execution_count": 18,
   "id": "91d373fc",
   "metadata": {},
   "outputs": [
    {
     "data": {
      "text/html": [
       "<div>\n",
       "<style scoped>\n",
       "    .dataframe tbody tr th:only-of-type {\n",
       "        vertical-align: middle;\n",
       "    }\n",
       "\n",
       "    .dataframe tbody tr th {\n",
       "        vertical-align: top;\n",
       "    }\n",
       "\n",
       "    .dataframe thead th {\n",
       "        text-align: right;\n",
       "    }\n",
       "</style>\n",
       "<table border=\"1\" class=\"dataframe\">\n",
       "  <thead>\n",
       "    <tr style=\"text-align: right;\">\n",
       "      <th></th>\n",
       "      <th>all_time_clip_download_rate_percentage</th>\n",
       "    </tr>\n",
       "  </thead>\n",
       "  <tbody>\n",
       "    <tr>\n",
       "      <th>0</th>\n",
       "      <td>2.343</td>\n",
       "    </tr>\n",
       "  </tbody>\n",
       "</table>\n",
       "</div>"
      ],
      "text/plain": [
       "   all_time_clip_download_rate_percentage\n",
       "0                                   2.343"
      ]
     },
     "metadata": {},
     "output_type": "display_data"
    }
   ],
   "source": [
    "query4 = '''\n",
    "WITH AllTimeGeneratedClips AS (\n",
    "    SELECT\n",
    "        COUNT(DISTINCT id) AS generated_clips_count\n",
    "    FROM\n",
    "        'clips.csv'\n",
    "    WHERE\n",
    "        created_at IS NOT NULL\n",
    "),\n",
    "AllTimeDownloadedClips AS (\n",
    "    SELECT\n",
    "        COUNT(DISTINCT clip_id) AS downloaded_clips_count\n",
    "    FROM\n",
    "        'downloaded_clips.csv'\n",
    "    WHERE\n",
    "        created_at IS NOT NULL\n",
    ")\n",
    "SELECT\n",
    "    CASE\n",
    "        WHEN agc.generated_clips_count > 0 THEN ROUND(CAST(adc.downloaded_clips_count AS REAL) * 100.0 / agc.generated_clips_count, 3)\n",
    "        ELSE 0.0\n",
    "    END AS all_time_clip_download_rate_percentage\n",
    "FROM\n",
    "    AllTimeGeneratedClips AS agc,\n",
    "    AllTimeDownloadedClips AS adc;\n",
    "'''\n",
    "result4 = con.execute(query4).df()\n",
    "display(result4)"
   ]
  },
  {
   "cell_type": "markdown",
   "id": "5241b6bd",
   "metadata": {},
   "source": [
    "### - Total Shared Clips (Monthly)"
   ]
  },
  {
   "cell_type": "markdown",
   "id": "5e068da3",
   "metadata": {},
   "source": [
    "Measures how much content is being distributed by users, reflecting virality and user satisfaction.\n",
    "\n",
    "To ensures we are counting shares of clips that exist within our clips database, we will join the shared_clips table with the clips table."
   ]
  },
  {
   "cell_type": "code",
   "execution_count": 5,
   "id": "5b727258",
   "metadata": {},
   "outputs": [
    {
     "data": {
      "text/html": [
       "<div>\n",
       "<style scoped>\n",
       "    .dataframe tbody tr th:only-of-type {\n",
       "        vertical-align: middle;\n",
       "    }\n",
       "\n",
       "    .dataframe tbody tr th {\n",
       "        vertical-align: top;\n",
       "    }\n",
       "\n",
       "    .dataframe thead th {\n",
       "        text-align: right;\n",
       "    }\n",
       "</style>\n",
       "<table border=\"1\" class=\"dataframe\">\n",
       "  <thead>\n",
       "    <tr style=\"text-align: right;\">\n",
       "      <th></th>\n",
       "      <th>shared_month</th>\n",
       "      <th>total_shared_clips</th>\n",
       "    </tr>\n",
       "  </thead>\n",
       "  <tbody>\n",
       "    <tr>\n",
       "      <th>0</th>\n",
       "      <td>2023-06-01</td>\n",
       "      <td>333</td>\n",
       "    </tr>\n",
       "    <tr>\n",
       "      <th>1</th>\n",
       "      <td>2023-07-01</td>\n",
       "      <td>241</td>\n",
       "    </tr>\n",
       "    <tr>\n",
       "      <th>2</th>\n",
       "      <td>2023-08-01</td>\n",
       "      <td>285</td>\n",
       "    </tr>\n",
       "    <tr>\n",
       "      <th>3</th>\n",
       "      <td>2023-09-01</td>\n",
       "      <td>373</td>\n",
       "    </tr>\n",
       "    <tr>\n",
       "      <th>4</th>\n",
       "      <td>2023-10-01</td>\n",
       "      <td>613</td>\n",
       "    </tr>\n",
       "    <tr>\n",
       "      <th>5</th>\n",
       "      <td>2023-11-01</td>\n",
       "      <td>719</td>\n",
       "    </tr>\n",
       "    <tr>\n",
       "      <th>6</th>\n",
       "      <td>2023-12-01</td>\n",
       "      <td>398</td>\n",
       "    </tr>\n",
       "  </tbody>\n",
       "</table>\n",
       "</div>"
      ],
      "text/plain": [
       "  shared_month  total_shared_clips\n",
       "0   2023-06-01                 333\n",
       "1   2023-07-01                 241\n",
       "2   2023-08-01                 285\n",
       "3   2023-09-01                 373\n",
       "4   2023-10-01                 613\n",
       "5   2023-11-01                 719\n",
       "6   2023-12-01                 398"
      ]
     },
     "metadata": {},
     "output_type": "display_data"
    }
   ],
   "source": [
    "query5 = '''\n",
    "SELECT\n",
    "    DATE_TRUNC('month', sc.created_at) AS shared_month,\n",
    "    COUNT(DISTINCT sc.clip_id) AS total_shared_clips\n",
    "FROM\n",
    "    'shared_clips.csv' AS sc\n",
    "JOIN\n",
    "    'clips.csv' AS c ON sc.clip_id = c.id\n",
    "WHERE\n",
    "    sc.created_at IS NOT NULL\n",
    "GROUP BY\n",
    "    shared_month\n",
    "ORDER BY\n",
    "    shared_month;\n",
    "'''\n",
    "result5 = con.execute(query5).df()\n",
    "display(result5)"
   ]
  },
  {
   "cell_type": "code",
   "execution_count": 8,
   "id": "11d33429",
   "metadata": {},
   "outputs": [
    {
     "data": {
      "application/vnd.plotly.v1+json": {
       "config": {
        "plotlyServerURL": "https://plot.ly"
       },
       "data": [
        {
         "line": {
          "color": "purple",
          "width": 2
         },
         "marker": {
          "line": {
           "color": "DarkSlateGrey",
           "width": 1
          },
          "size": 8,
          "symbol": "circle"
         },
         "mode": "lines+markers",
         "name": "Total Shared Clips",
         "type": "scatter",
         "x": [
          "2023-06-01T00:00:00",
          "2023-07-01T00:00:00",
          "2023-08-01T00:00:00",
          "2023-09-01T00:00:00",
          "2023-10-01T00:00:00",
          "2023-11-01T00:00:00",
          "2023-12-01T00:00:00"
         ],
         "y": [
          333,
          241,
          285,
          373,
          613,
          719,
          398
         ]
        }
       ],
       "layout": {
        "hovermode": "x unified",
        "template": {
         "data": {
          "bar": [
           {
            "error_x": {
             "color": "#2a3f5f"
            },
            "error_y": {
             "color": "#2a3f5f"
            },
            "marker": {
             "line": {
              "color": "white",
              "width": 0.5
             },
             "pattern": {
              "fillmode": "overlay",
              "size": 10,
              "solidity": 0.2
             }
            },
            "type": "bar"
           }
          ],
          "barpolar": [
           {
            "marker": {
             "line": {
              "color": "white",
              "width": 0.5
             },
             "pattern": {
              "fillmode": "overlay",
              "size": 10,
              "solidity": 0.2
             }
            },
            "type": "barpolar"
           }
          ],
          "carpet": [
           {
            "aaxis": {
             "endlinecolor": "#2a3f5f",
             "gridcolor": "#C8D4E3",
             "linecolor": "#C8D4E3",
             "minorgridcolor": "#C8D4E3",
             "startlinecolor": "#2a3f5f"
            },
            "baxis": {
             "endlinecolor": "#2a3f5f",
             "gridcolor": "#C8D4E3",
             "linecolor": "#C8D4E3",
             "minorgridcolor": "#C8D4E3",
             "startlinecolor": "#2a3f5f"
            },
            "type": "carpet"
           }
          ],
          "choropleth": [
           {
            "colorbar": {
             "outlinewidth": 0,
             "ticks": ""
            },
            "type": "choropleth"
           }
          ],
          "contour": [
           {
            "colorbar": {
             "outlinewidth": 0,
             "ticks": ""
            },
            "colorscale": [
             [
              0,
              "#0d0887"
             ],
             [
              0.1111111111111111,
              "#46039f"
             ],
             [
              0.2222222222222222,
              "#7201a8"
             ],
             [
              0.3333333333333333,
              "#9c179e"
             ],
             [
              0.4444444444444444,
              "#bd3786"
             ],
             [
              0.5555555555555556,
              "#d8576b"
             ],
             [
              0.6666666666666666,
              "#ed7953"
             ],
             [
              0.7777777777777778,
              "#fb9f3a"
             ],
             [
              0.8888888888888888,
              "#fdca26"
             ],
             [
              1,
              "#f0f921"
             ]
            ],
            "type": "contour"
           }
          ],
          "contourcarpet": [
           {
            "colorbar": {
             "outlinewidth": 0,
             "ticks": ""
            },
            "type": "contourcarpet"
           }
          ],
          "heatmap": [
           {
            "colorbar": {
             "outlinewidth": 0,
             "ticks": ""
            },
            "colorscale": [
             [
              0,
              "#0d0887"
             ],
             [
              0.1111111111111111,
              "#46039f"
             ],
             [
              0.2222222222222222,
              "#7201a8"
             ],
             [
              0.3333333333333333,
              "#9c179e"
             ],
             [
              0.4444444444444444,
              "#bd3786"
             ],
             [
              0.5555555555555556,
              "#d8576b"
             ],
             [
              0.6666666666666666,
              "#ed7953"
             ],
             [
              0.7777777777777778,
              "#fb9f3a"
             ],
             [
              0.8888888888888888,
              "#fdca26"
             ],
             [
              1,
              "#f0f921"
             ]
            ],
            "type": "heatmap"
           }
          ],
          "heatmapgl": [
           {
            "colorbar": {
             "outlinewidth": 0,
             "ticks": ""
            },
            "colorscale": [
             [
              0,
              "#0d0887"
             ],
             [
              0.1111111111111111,
              "#46039f"
             ],
             [
              0.2222222222222222,
              "#7201a8"
             ],
             [
              0.3333333333333333,
              "#9c179e"
             ],
             [
              0.4444444444444444,
              "#bd3786"
             ],
             [
              0.5555555555555556,
              "#d8576b"
             ],
             [
              0.6666666666666666,
              "#ed7953"
             ],
             [
              0.7777777777777778,
              "#fb9f3a"
             ],
             [
              0.8888888888888888,
              "#fdca26"
             ],
             [
              1,
              "#f0f921"
             ]
            ],
            "type": "heatmapgl"
           }
          ],
          "histogram": [
           {
            "marker": {
             "pattern": {
              "fillmode": "overlay",
              "size": 10,
              "solidity": 0.2
             }
            },
            "type": "histogram"
           }
          ],
          "histogram2d": [
           {
            "colorbar": {
             "outlinewidth": 0,
             "ticks": ""
            },
            "colorscale": [
             [
              0,
              "#0d0887"
             ],
             [
              0.1111111111111111,
              "#46039f"
             ],
             [
              0.2222222222222222,
              "#7201a8"
             ],
             [
              0.3333333333333333,
              "#9c179e"
             ],
             [
              0.4444444444444444,
              "#bd3786"
             ],
             [
              0.5555555555555556,
              "#d8576b"
             ],
             [
              0.6666666666666666,
              "#ed7953"
             ],
             [
              0.7777777777777778,
              "#fb9f3a"
             ],
             [
              0.8888888888888888,
              "#fdca26"
             ],
             [
              1,
              "#f0f921"
             ]
            ],
            "type": "histogram2d"
           }
          ],
          "histogram2dcontour": [
           {
            "colorbar": {
             "outlinewidth": 0,
             "ticks": ""
            },
            "colorscale": [
             [
              0,
              "#0d0887"
             ],
             [
              0.1111111111111111,
              "#46039f"
             ],
             [
              0.2222222222222222,
              "#7201a8"
             ],
             [
              0.3333333333333333,
              "#9c179e"
             ],
             [
              0.4444444444444444,
              "#bd3786"
             ],
             [
              0.5555555555555556,
              "#d8576b"
             ],
             [
              0.6666666666666666,
              "#ed7953"
             ],
             [
              0.7777777777777778,
              "#fb9f3a"
             ],
             [
              0.8888888888888888,
              "#fdca26"
             ],
             [
              1,
              "#f0f921"
             ]
            ],
            "type": "histogram2dcontour"
           }
          ],
          "mesh3d": [
           {
            "colorbar": {
             "outlinewidth": 0,
             "ticks": ""
            },
            "type": "mesh3d"
           }
          ],
          "parcoords": [
           {
            "line": {
             "colorbar": {
              "outlinewidth": 0,
              "ticks": ""
             }
            },
            "type": "parcoords"
           }
          ],
          "pie": [
           {
            "automargin": true,
            "type": "pie"
           }
          ],
          "scatter": [
           {
            "fillpattern": {
             "fillmode": "overlay",
             "size": 10,
             "solidity": 0.2
            },
            "type": "scatter"
           }
          ],
          "scatter3d": [
           {
            "line": {
             "colorbar": {
              "outlinewidth": 0,
              "ticks": ""
             }
            },
            "marker": {
             "colorbar": {
              "outlinewidth": 0,
              "ticks": ""
             }
            },
            "type": "scatter3d"
           }
          ],
          "scattercarpet": [
           {
            "marker": {
             "colorbar": {
              "outlinewidth": 0,
              "ticks": ""
             }
            },
            "type": "scattercarpet"
           }
          ],
          "scattergeo": [
           {
            "marker": {
             "colorbar": {
              "outlinewidth": 0,
              "ticks": ""
             }
            },
            "type": "scattergeo"
           }
          ],
          "scattergl": [
           {
            "marker": {
             "colorbar": {
              "outlinewidth": 0,
              "ticks": ""
             }
            },
            "type": "scattergl"
           }
          ],
          "scattermapbox": [
           {
            "marker": {
             "colorbar": {
              "outlinewidth": 0,
              "ticks": ""
             }
            },
            "type": "scattermapbox"
           }
          ],
          "scatterpolar": [
           {
            "marker": {
             "colorbar": {
              "outlinewidth": 0,
              "ticks": ""
             }
            },
            "type": "scatterpolar"
           }
          ],
          "scatterpolargl": [
           {
            "marker": {
             "colorbar": {
              "outlinewidth": 0,
              "ticks": ""
             }
            },
            "type": "scatterpolargl"
           }
          ],
          "scatterternary": [
           {
            "marker": {
             "colorbar": {
              "outlinewidth": 0,
              "ticks": ""
             }
            },
            "type": "scatterternary"
           }
          ],
          "surface": [
           {
            "colorbar": {
             "outlinewidth": 0,
             "ticks": ""
            },
            "colorscale": [
             [
              0,
              "#0d0887"
             ],
             [
              0.1111111111111111,
              "#46039f"
             ],
             [
              0.2222222222222222,
              "#7201a8"
             ],
             [
              0.3333333333333333,
              "#9c179e"
             ],
             [
              0.4444444444444444,
              "#bd3786"
             ],
             [
              0.5555555555555556,
              "#d8576b"
             ],
             [
              0.6666666666666666,
              "#ed7953"
             ],
             [
              0.7777777777777778,
              "#fb9f3a"
             ],
             [
              0.8888888888888888,
              "#fdca26"
             ],
             [
              1,
              "#f0f921"
             ]
            ],
            "type": "surface"
           }
          ],
          "table": [
           {
            "cells": {
             "fill": {
              "color": "#EBF0F8"
             },
             "line": {
              "color": "white"
             }
            },
            "header": {
             "fill": {
              "color": "#C8D4E3"
             },
             "line": {
              "color": "white"
             }
            },
            "type": "table"
           }
          ]
         },
         "layout": {
          "annotationdefaults": {
           "arrowcolor": "#2a3f5f",
           "arrowhead": 0,
           "arrowwidth": 1
          },
          "autotypenumbers": "strict",
          "coloraxis": {
           "colorbar": {
            "outlinewidth": 0,
            "ticks": ""
           }
          },
          "colorscale": {
           "diverging": [
            [
             0,
             "#8e0152"
            ],
            [
             0.1,
             "#c51b7d"
            ],
            [
             0.2,
             "#de77ae"
            ],
            [
             0.3,
             "#f1b6da"
            ],
            [
             0.4,
             "#fde0ef"
            ],
            [
             0.5,
             "#f7f7f7"
            ],
            [
             0.6,
             "#e6f5d0"
            ],
            [
             0.7,
             "#b8e186"
            ],
            [
             0.8,
             "#7fbc41"
            ],
            [
             0.9,
             "#4d9221"
            ],
            [
             1,
             "#276419"
            ]
           ],
           "sequential": [
            [
             0,
             "#0d0887"
            ],
            [
             0.1111111111111111,
             "#46039f"
            ],
            [
             0.2222222222222222,
             "#7201a8"
            ],
            [
             0.3333333333333333,
             "#9c179e"
            ],
            [
             0.4444444444444444,
             "#bd3786"
            ],
            [
             0.5555555555555556,
             "#d8576b"
            ],
            [
             0.6666666666666666,
             "#ed7953"
            ],
            [
             0.7777777777777778,
             "#fb9f3a"
            ],
            [
             0.8888888888888888,
             "#fdca26"
            ],
            [
             1,
             "#f0f921"
            ]
           ],
           "sequentialminus": [
            [
             0,
             "#0d0887"
            ],
            [
             0.1111111111111111,
             "#46039f"
            ],
            [
             0.2222222222222222,
             "#7201a8"
            ],
            [
             0.3333333333333333,
             "#9c179e"
            ],
            [
             0.4444444444444444,
             "#bd3786"
            ],
            [
             0.5555555555555556,
             "#d8576b"
            ],
            [
             0.6666666666666666,
             "#ed7953"
            ],
            [
             0.7777777777777778,
             "#fb9f3a"
            ],
            [
             0.8888888888888888,
             "#fdca26"
            ],
            [
             1,
             "#f0f921"
            ]
           ]
          },
          "colorway": [
           "#636efa",
           "#EF553B",
           "#00cc96",
           "#ab63fa",
           "#FFA15A",
           "#19d3f3",
           "#FF6692",
           "#B6E880",
           "#FF97FF",
           "#FECB52"
          ],
          "font": {
           "color": "#2a3f5f"
          },
          "geo": {
           "bgcolor": "white",
           "lakecolor": "white",
           "landcolor": "white",
           "showlakes": true,
           "showland": true,
           "subunitcolor": "#C8D4E3"
          },
          "hoverlabel": {
           "align": "left"
          },
          "hovermode": "closest",
          "mapbox": {
           "style": "light"
          },
          "paper_bgcolor": "white",
          "plot_bgcolor": "white",
          "polar": {
           "angularaxis": {
            "gridcolor": "#EBF0F8",
            "linecolor": "#EBF0F8",
            "ticks": ""
           },
           "bgcolor": "white",
           "radialaxis": {
            "gridcolor": "#EBF0F8",
            "linecolor": "#EBF0F8",
            "ticks": ""
           }
          },
          "scene": {
           "xaxis": {
            "backgroundcolor": "white",
            "gridcolor": "#DFE8F3",
            "gridwidth": 2,
            "linecolor": "#EBF0F8",
            "showbackground": true,
            "ticks": "",
            "zerolinecolor": "#EBF0F8"
           },
           "yaxis": {
            "backgroundcolor": "white",
            "gridcolor": "#DFE8F3",
            "gridwidth": 2,
            "linecolor": "#EBF0F8",
            "showbackground": true,
            "ticks": "",
            "zerolinecolor": "#EBF0F8"
           },
           "zaxis": {
            "backgroundcolor": "white",
            "gridcolor": "#DFE8F3",
            "gridwidth": 2,
            "linecolor": "#EBF0F8",
            "showbackground": true,
            "ticks": "",
            "zerolinecolor": "#EBF0F8"
           }
          },
          "shapedefaults": {
           "line": {
            "color": "#2a3f5f"
           }
          },
          "ternary": {
           "aaxis": {
            "gridcolor": "#DFE8F3",
            "linecolor": "#A2B1C6",
            "ticks": ""
           },
           "baxis": {
            "gridcolor": "#DFE8F3",
            "linecolor": "#A2B1C6",
            "ticks": ""
           },
           "bgcolor": "white",
           "caxis": {
            "gridcolor": "#DFE8F3",
            "linecolor": "#A2B1C6",
            "ticks": ""
           }
          },
          "title": {
           "x": 0.05
          },
          "xaxis": {
           "automargin": true,
           "gridcolor": "#EBF0F8",
           "linecolor": "#EBF0F8",
           "ticks": "",
           "title": {
            "standoff": 15
           },
           "zerolinecolor": "#EBF0F8",
           "zerolinewidth": 2
          },
          "yaxis": {
           "automargin": true,
           "gridcolor": "#EBF0F8",
           "linecolor": "#EBF0F8",
           "ticks": "",
           "title": {
            "standoff": 15
           },
           "zerolinecolor": "#EBF0F8",
           "zerolinewidth": 2
          }
         }
        },
        "title": {
         "font": {
          "color": "black",
          "size": 20
         },
         "text": "Monthly Total Shared Clips Over Time",
         "x": 0.5,
         "xanchor": "center"
        },
        "xaxis": {
         "gridcolor": "#e0e0e0",
         "nticks": 7,
         "showgrid": true,
         "tickangle": -45,
         "tickmode": "auto",
         "title": {
          "text": "Shared Month"
         }
        },
        "yaxis": {
         "gridcolor": "#e0e0e0",
         "showgrid": true,
         "title": {
          "text": "Number of Shared Clips"
         }
        }
       }
      }
     },
     "metadata": {},
     "output_type": "display_data"
    }
   ],
   "source": [
    "import pandas as pd\n",
    "import plotly.graph_objects as go\n",
    "import plotly.io as pio\n",
    "\n",
    "result5['shared_month'] = pd.to_datetime(result5['shared_month'])\n",
    "\n",
    "# Sort the DataFrame by month to ensure the line chart progresses correctly\n",
    "result5 = result5.sort_values(by='shared_month')\n",
    "\n",
    "# Create the Plotly line chart\n",
    "fig = go.Figure()\n",
    "\n",
    "fig.add_trace(go.Scatter(\n",
    "    x=result5['shared_month'],\n",
    "    y=result5['total_shared_clips'],\n",
    "    mode='lines+markers',\n",
    "    name='Total Shared Clips',\n",
    "    line=dict(color='purple', width=2),\n",
    "    marker=dict(size=8, symbol='circle', line=dict(width=1, color='DarkSlateGrey'))\n",
    "))\n",
    "\n",
    "# Update layout for title and labels\n",
    "fig.update_layout(\n",
    "    title={\n",
    "        'text': 'Monthly Total Shared Clips Over Time',\n",
    "        'x': 0.5, # Center the title\n",
    "        'xanchor': 'center',\n",
    "        'font': dict(size=20, color='black')\n",
    "    },\n",
    "    xaxis_title='Shared Month',\n",
    "    yaxis_title='Number of Shared Clips',\n",
    "    xaxis=dict(\n",
    "        tickmode='auto',\n",
    "        nticks=len(result5['shared_month']), # Adjust number of ticks based on data points\n",
    "        tickangle=-45,\n",
    "        showgrid=True,\n",
    "        gridcolor='#e0e0e0'\n",
    "    ),\n",
    "    yaxis=dict(\n",
    "        showgrid=True,\n",
    "        gridcolor='#e0e0e0'\n",
    "    ),\n",
    "    hovermode=\"x unified\", # Shows hover info for all traces at the same x-position\n",
    "    template=\"plotly_white\" # Use a clean white background template\n",
    ")\n"
   ]
  },
  {
   "cell_type": "markdown",
   "id": "8724bf12",
   "metadata": {},
   "source": [
    "# 3. Monetization & Business Growth:"
   ]
  },
  {
   "cell_type": "markdown",
   "id": "90528622",
   "metadata": {},
   "source": [
    "## - Premium User Growth (Monthly): "
   ]
  },
  {
   "cell_type": "markdown",
   "id": "2cd7395f",
   "metadata": {},
   "source": [
    "Tracks the increase in paying subscribers."
   ]
  },
  {
   "cell_type": "code",
   "execution_count": 12,
   "id": "978c5115",
   "metadata": {},
   "outputs": [
    {
     "data": {
      "text/html": [
       "<div>\n",
       "<style scoped>\n",
       "    .dataframe tbody tr th:only-of-type {\n",
       "        vertical-align: middle;\n",
       "    }\n",
       "\n",
       "    .dataframe tbody tr th {\n",
       "        vertical-align: top;\n",
       "    }\n",
       "\n",
       "    .dataframe thead th {\n",
       "        text-align: right;\n",
       "    }\n",
       "</style>\n",
       "<table border=\"1\" class=\"dataframe\">\n",
       "  <thead>\n",
       "    <tr style=\"text-align: right;\">\n",
       "      <th></th>\n",
       "      <th>premium_start_month</th>\n",
       "      <th>new_premium_users</th>\n",
       "    </tr>\n",
       "  </thead>\n",
       "  <tbody>\n",
       "    <tr>\n",
       "      <th>0</th>\n",
       "      <td>2023-01-01</td>\n",
       "      <td>9</td>\n",
       "    </tr>\n",
       "    <tr>\n",
       "      <th>1</th>\n",
       "      <td>2023-02-01</td>\n",
       "      <td>13</td>\n",
       "    </tr>\n",
       "    <tr>\n",
       "      <th>2</th>\n",
       "      <td>2023-03-01</td>\n",
       "      <td>22</td>\n",
       "    </tr>\n",
       "    <tr>\n",
       "      <th>3</th>\n",
       "      <td>2023-04-01</td>\n",
       "      <td>27</td>\n",
       "    </tr>\n",
       "    <tr>\n",
       "      <th>4</th>\n",
       "      <td>2023-05-01</td>\n",
       "      <td>26</td>\n",
       "    </tr>\n",
       "    <tr>\n",
       "      <th>5</th>\n",
       "      <td>2023-06-01</td>\n",
       "      <td>28</td>\n",
       "    </tr>\n",
       "    <tr>\n",
       "      <th>6</th>\n",
       "      <td>2023-07-01</td>\n",
       "      <td>30</td>\n",
       "    </tr>\n",
       "    <tr>\n",
       "      <th>7</th>\n",
       "      <td>2023-08-01</td>\n",
       "      <td>32</td>\n",
       "    </tr>\n",
       "    <tr>\n",
       "      <th>8</th>\n",
       "      <td>2023-09-01</td>\n",
       "      <td>40</td>\n",
       "    </tr>\n",
       "    <tr>\n",
       "      <th>9</th>\n",
       "      <td>2023-10-01</td>\n",
       "      <td>56</td>\n",
       "    </tr>\n",
       "    <tr>\n",
       "      <th>10</th>\n",
       "      <td>2023-11-01</td>\n",
       "      <td>44</td>\n",
       "    </tr>\n",
       "    <tr>\n",
       "      <th>11</th>\n",
       "      <td>2023-12-01</td>\n",
       "      <td>29</td>\n",
       "    </tr>\n",
       "  </tbody>\n",
       "</table>\n",
       "</div>"
      ],
      "text/plain": [
       "   premium_start_month  new_premium_users\n",
       "0           2023-01-01                  9\n",
       "1           2023-02-01                 13\n",
       "2           2023-03-01                 22\n",
       "3           2023-04-01                 27\n",
       "4           2023-05-01                 26\n",
       "5           2023-06-01                 28\n",
       "6           2023-07-01                 30\n",
       "7           2023-08-01                 32\n",
       "8           2023-09-01                 40\n",
       "9           2023-10-01                 56\n",
       "10          2023-11-01                 44\n",
       "11          2023-12-01                 29"
      ]
     },
     "metadata": {},
     "output_type": "display_data"
    }
   ],
   "source": [
    "query6 = '''\n",
    "SELECT\n",
    "    DATE_TRUNC('month', p.starts_at) AS premium_start_month,\n",
    "    COUNT(DISTINCT p.user_id) AS new_premium_users\n",
    "FROM\n",
    "    'premium.csv' AS p\n",
    "JOIN\n",
    "    'gamesession.csv' AS gs ON p.user_id = gs.user_id\n",
    "WHERE\n",
    "    p.starts_at IS NOT NULL\n",
    "GROUP BY\n",
    "    premium_start_month\n",
    "ORDER BY\n",
    "    premium_start_month;\n",
    "'''\n",
    "result6 = con.execute(query6).df()\n",
    "display(result6)"
   ]
  },
  {
   "cell_type": "code",
   "execution_count": 13,
   "id": "e3f91389",
   "metadata": {},
   "outputs": [
    {
     "data": {
      "application/vnd.plotly.v1+json": {
       "config": {
        "plotlyServerURL": "https://plot.ly"
       },
       "data": [
        {
         "line": {
          "color": "green",
          "width": 2
         },
         "marker": {
          "line": {
           "color": "DarkSlateGrey",
           "width": 1
          },
          "size": 8,
          "symbol": "circle"
         },
         "mode": "lines+markers",
         "name": "New Premium Users",
         "type": "scatter",
         "x": [
          "2023-01-01T00:00:00",
          "2023-02-01T00:00:00",
          "2023-03-01T00:00:00",
          "2023-04-01T00:00:00",
          "2023-05-01T00:00:00",
          "2023-06-01T00:00:00",
          "2023-07-01T00:00:00",
          "2023-08-01T00:00:00",
          "2023-09-01T00:00:00",
          "2023-10-01T00:00:00",
          "2023-11-01T00:00:00",
          "2023-12-01T00:00:00"
         ],
         "y": [
          9,
          13,
          22,
          27,
          26,
          28,
          30,
          32,
          40,
          56,
          44,
          29
         ]
        }
       ],
       "layout": {
        "hovermode": "x unified",
        "template": {
         "data": {
          "bar": [
           {
            "error_x": {
             "color": "#2a3f5f"
            },
            "error_y": {
             "color": "#2a3f5f"
            },
            "marker": {
             "line": {
              "color": "white",
              "width": 0.5
             },
             "pattern": {
              "fillmode": "overlay",
              "size": 10,
              "solidity": 0.2
             }
            },
            "type": "bar"
           }
          ],
          "barpolar": [
           {
            "marker": {
             "line": {
              "color": "white",
              "width": 0.5
             },
             "pattern": {
              "fillmode": "overlay",
              "size": 10,
              "solidity": 0.2
             }
            },
            "type": "barpolar"
           }
          ],
          "carpet": [
           {
            "aaxis": {
             "endlinecolor": "#2a3f5f",
             "gridcolor": "#C8D4E3",
             "linecolor": "#C8D4E3",
             "minorgridcolor": "#C8D4E3",
             "startlinecolor": "#2a3f5f"
            },
            "baxis": {
             "endlinecolor": "#2a3f5f",
             "gridcolor": "#C8D4E3",
             "linecolor": "#C8D4E3",
             "minorgridcolor": "#C8D4E3",
             "startlinecolor": "#2a3f5f"
            },
            "type": "carpet"
           }
          ],
          "choropleth": [
           {
            "colorbar": {
             "outlinewidth": 0,
             "ticks": ""
            },
            "type": "choropleth"
           }
          ],
          "contour": [
           {
            "colorbar": {
             "outlinewidth": 0,
             "ticks": ""
            },
            "colorscale": [
             [
              0,
              "#0d0887"
             ],
             [
              0.1111111111111111,
              "#46039f"
             ],
             [
              0.2222222222222222,
              "#7201a8"
             ],
             [
              0.3333333333333333,
              "#9c179e"
             ],
             [
              0.4444444444444444,
              "#bd3786"
             ],
             [
              0.5555555555555556,
              "#d8576b"
             ],
             [
              0.6666666666666666,
              "#ed7953"
             ],
             [
              0.7777777777777778,
              "#fb9f3a"
             ],
             [
              0.8888888888888888,
              "#fdca26"
             ],
             [
              1,
              "#f0f921"
             ]
            ],
            "type": "contour"
           }
          ],
          "contourcarpet": [
           {
            "colorbar": {
             "outlinewidth": 0,
             "ticks": ""
            },
            "type": "contourcarpet"
           }
          ],
          "heatmap": [
           {
            "colorbar": {
             "outlinewidth": 0,
             "ticks": ""
            },
            "colorscale": [
             [
              0,
              "#0d0887"
             ],
             [
              0.1111111111111111,
              "#46039f"
             ],
             [
              0.2222222222222222,
              "#7201a8"
             ],
             [
              0.3333333333333333,
              "#9c179e"
             ],
             [
              0.4444444444444444,
              "#bd3786"
             ],
             [
              0.5555555555555556,
              "#d8576b"
             ],
             [
              0.6666666666666666,
              "#ed7953"
             ],
             [
              0.7777777777777778,
              "#fb9f3a"
             ],
             [
              0.8888888888888888,
              "#fdca26"
             ],
             [
              1,
              "#f0f921"
             ]
            ],
            "type": "heatmap"
           }
          ],
          "heatmapgl": [
           {
            "colorbar": {
             "outlinewidth": 0,
             "ticks": ""
            },
            "colorscale": [
             [
              0,
              "#0d0887"
             ],
             [
              0.1111111111111111,
              "#46039f"
             ],
             [
              0.2222222222222222,
              "#7201a8"
             ],
             [
              0.3333333333333333,
              "#9c179e"
             ],
             [
              0.4444444444444444,
              "#bd3786"
             ],
             [
              0.5555555555555556,
              "#d8576b"
             ],
             [
              0.6666666666666666,
              "#ed7953"
             ],
             [
              0.7777777777777778,
              "#fb9f3a"
             ],
             [
              0.8888888888888888,
              "#fdca26"
             ],
             [
              1,
              "#f0f921"
             ]
            ],
            "type": "heatmapgl"
           }
          ],
          "histogram": [
           {
            "marker": {
             "pattern": {
              "fillmode": "overlay",
              "size": 10,
              "solidity": 0.2
             }
            },
            "type": "histogram"
           }
          ],
          "histogram2d": [
           {
            "colorbar": {
             "outlinewidth": 0,
             "ticks": ""
            },
            "colorscale": [
             [
              0,
              "#0d0887"
             ],
             [
              0.1111111111111111,
              "#46039f"
             ],
             [
              0.2222222222222222,
              "#7201a8"
             ],
             [
              0.3333333333333333,
              "#9c179e"
             ],
             [
              0.4444444444444444,
              "#bd3786"
             ],
             [
              0.5555555555555556,
              "#d8576b"
             ],
             [
              0.6666666666666666,
              "#ed7953"
             ],
             [
              0.7777777777777778,
              "#fb9f3a"
             ],
             [
              0.8888888888888888,
              "#fdca26"
             ],
             [
              1,
              "#f0f921"
             ]
            ],
            "type": "histogram2d"
           }
          ],
          "histogram2dcontour": [
           {
            "colorbar": {
             "outlinewidth": 0,
             "ticks": ""
            },
            "colorscale": [
             [
              0,
              "#0d0887"
             ],
             [
              0.1111111111111111,
              "#46039f"
             ],
             [
              0.2222222222222222,
              "#7201a8"
             ],
             [
              0.3333333333333333,
              "#9c179e"
             ],
             [
              0.4444444444444444,
              "#bd3786"
             ],
             [
              0.5555555555555556,
              "#d8576b"
             ],
             [
              0.6666666666666666,
              "#ed7953"
             ],
             [
              0.7777777777777778,
              "#fb9f3a"
             ],
             [
              0.8888888888888888,
              "#fdca26"
             ],
             [
              1,
              "#f0f921"
             ]
            ],
            "type": "histogram2dcontour"
           }
          ],
          "mesh3d": [
           {
            "colorbar": {
             "outlinewidth": 0,
             "ticks": ""
            },
            "type": "mesh3d"
           }
          ],
          "parcoords": [
           {
            "line": {
             "colorbar": {
              "outlinewidth": 0,
              "ticks": ""
             }
            },
            "type": "parcoords"
           }
          ],
          "pie": [
           {
            "automargin": true,
            "type": "pie"
           }
          ],
          "scatter": [
           {
            "fillpattern": {
             "fillmode": "overlay",
             "size": 10,
             "solidity": 0.2
            },
            "type": "scatter"
           }
          ],
          "scatter3d": [
           {
            "line": {
             "colorbar": {
              "outlinewidth": 0,
              "ticks": ""
             }
            },
            "marker": {
             "colorbar": {
              "outlinewidth": 0,
              "ticks": ""
             }
            },
            "type": "scatter3d"
           }
          ],
          "scattercarpet": [
           {
            "marker": {
             "colorbar": {
              "outlinewidth": 0,
              "ticks": ""
             }
            },
            "type": "scattercarpet"
           }
          ],
          "scattergeo": [
           {
            "marker": {
             "colorbar": {
              "outlinewidth": 0,
              "ticks": ""
             }
            },
            "type": "scattergeo"
           }
          ],
          "scattergl": [
           {
            "marker": {
             "colorbar": {
              "outlinewidth": 0,
              "ticks": ""
             }
            },
            "type": "scattergl"
           }
          ],
          "scattermapbox": [
           {
            "marker": {
             "colorbar": {
              "outlinewidth": 0,
              "ticks": ""
             }
            },
            "type": "scattermapbox"
           }
          ],
          "scatterpolar": [
           {
            "marker": {
             "colorbar": {
              "outlinewidth": 0,
              "ticks": ""
             }
            },
            "type": "scatterpolar"
           }
          ],
          "scatterpolargl": [
           {
            "marker": {
             "colorbar": {
              "outlinewidth": 0,
              "ticks": ""
             }
            },
            "type": "scatterpolargl"
           }
          ],
          "scatterternary": [
           {
            "marker": {
             "colorbar": {
              "outlinewidth": 0,
              "ticks": ""
             }
            },
            "type": "scatterternary"
           }
          ],
          "surface": [
           {
            "colorbar": {
             "outlinewidth": 0,
             "ticks": ""
            },
            "colorscale": [
             [
              0,
              "#0d0887"
             ],
             [
              0.1111111111111111,
              "#46039f"
             ],
             [
              0.2222222222222222,
              "#7201a8"
             ],
             [
              0.3333333333333333,
              "#9c179e"
             ],
             [
              0.4444444444444444,
              "#bd3786"
             ],
             [
              0.5555555555555556,
              "#d8576b"
             ],
             [
              0.6666666666666666,
              "#ed7953"
             ],
             [
              0.7777777777777778,
              "#fb9f3a"
             ],
             [
              0.8888888888888888,
              "#fdca26"
             ],
             [
              1,
              "#f0f921"
             ]
            ],
            "type": "surface"
           }
          ],
          "table": [
           {
            "cells": {
             "fill": {
              "color": "#EBF0F8"
             },
             "line": {
              "color": "white"
             }
            },
            "header": {
             "fill": {
              "color": "#C8D4E3"
             },
             "line": {
              "color": "white"
             }
            },
            "type": "table"
           }
          ]
         },
         "layout": {
          "annotationdefaults": {
           "arrowcolor": "#2a3f5f",
           "arrowhead": 0,
           "arrowwidth": 1
          },
          "autotypenumbers": "strict",
          "coloraxis": {
           "colorbar": {
            "outlinewidth": 0,
            "ticks": ""
           }
          },
          "colorscale": {
           "diverging": [
            [
             0,
             "#8e0152"
            ],
            [
             0.1,
             "#c51b7d"
            ],
            [
             0.2,
             "#de77ae"
            ],
            [
             0.3,
             "#f1b6da"
            ],
            [
             0.4,
             "#fde0ef"
            ],
            [
             0.5,
             "#f7f7f7"
            ],
            [
             0.6,
             "#e6f5d0"
            ],
            [
             0.7,
             "#b8e186"
            ],
            [
             0.8,
             "#7fbc41"
            ],
            [
             0.9,
             "#4d9221"
            ],
            [
             1,
             "#276419"
            ]
           ],
           "sequential": [
            [
             0,
             "#0d0887"
            ],
            [
             0.1111111111111111,
             "#46039f"
            ],
            [
             0.2222222222222222,
             "#7201a8"
            ],
            [
             0.3333333333333333,
             "#9c179e"
            ],
            [
             0.4444444444444444,
             "#bd3786"
            ],
            [
             0.5555555555555556,
             "#d8576b"
            ],
            [
             0.6666666666666666,
             "#ed7953"
            ],
            [
             0.7777777777777778,
             "#fb9f3a"
            ],
            [
             0.8888888888888888,
             "#fdca26"
            ],
            [
             1,
             "#f0f921"
            ]
           ],
           "sequentialminus": [
            [
             0,
             "#0d0887"
            ],
            [
             0.1111111111111111,
             "#46039f"
            ],
            [
             0.2222222222222222,
             "#7201a8"
            ],
            [
             0.3333333333333333,
             "#9c179e"
            ],
            [
             0.4444444444444444,
             "#bd3786"
            ],
            [
             0.5555555555555556,
             "#d8576b"
            ],
            [
             0.6666666666666666,
             "#ed7953"
            ],
            [
             0.7777777777777778,
             "#fb9f3a"
            ],
            [
             0.8888888888888888,
             "#fdca26"
            ],
            [
             1,
             "#f0f921"
            ]
           ]
          },
          "colorway": [
           "#636efa",
           "#EF553B",
           "#00cc96",
           "#ab63fa",
           "#FFA15A",
           "#19d3f3",
           "#FF6692",
           "#B6E880",
           "#FF97FF",
           "#FECB52"
          ],
          "font": {
           "color": "#2a3f5f"
          },
          "geo": {
           "bgcolor": "white",
           "lakecolor": "white",
           "landcolor": "white",
           "showlakes": true,
           "showland": true,
           "subunitcolor": "#C8D4E3"
          },
          "hoverlabel": {
           "align": "left"
          },
          "hovermode": "closest",
          "mapbox": {
           "style": "light"
          },
          "paper_bgcolor": "white",
          "plot_bgcolor": "white",
          "polar": {
           "angularaxis": {
            "gridcolor": "#EBF0F8",
            "linecolor": "#EBF0F8",
            "ticks": ""
           },
           "bgcolor": "white",
           "radialaxis": {
            "gridcolor": "#EBF0F8",
            "linecolor": "#EBF0F8",
            "ticks": ""
           }
          },
          "scene": {
           "xaxis": {
            "backgroundcolor": "white",
            "gridcolor": "#DFE8F3",
            "gridwidth": 2,
            "linecolor": "#EBF0F8",
            "showbackground": true,
            "ticks": "",
            "zerolinecolor": "#EBF0F8"
           },
           "yaxis": {
            "backgroundcolor": "white",
            "gridcolor": "#DFE8F3",
            "gridwidth": 2,
            "linecolor": "#EBF0F8",
            "showbackground": true,
            "ticks": "",
            "zerolinecolor": "#EBF0F8"
           },
           "zaxis": {
            "backgroundcolor": "white",
            "gridcolor": "#DFE8F3",
            "gridwidth": 2,
            "linecolor": "#EBF0F8",
            "showbackground": true,
            "ticks": "",
            "zerolinecolor": "#EBF0F8"
           }
          },
          "shapedefaults": {
           "line": {
            "color": "#2a3f5f"
           }
          },
          "ternary": {
           "aaxis": {
            "gridcolor": "#DFE8F3",
            "linecolor": "#A2B1C6",
            "ticks": ""
           },
           "baxis": {
            "gridcolor": "#DFE8F3",
            "linecolor": "#A2B1C6",
            "ticks": ""
           },
           "bgcolor": "white",
           "caxis": {
            "gridcolor": "#DFE8F3",
            "linecolor": "#A2B1C6",
            "ticks": ""
           }
          },
          "title": {
           "x": 0.05
          },
          "xaxis": {
           "automargin": true,
           "gridcolor": "#EBF0F8",
           "linecolor": "#EBF0F8",
           "ticks": "",
           "title": {
            "standoff": 15
           },
           "zerolinecolor": "#EBF0F8",
           "zerolinewidth": 2
          },
          "yaxis": {
           "automargin": true,
           "gridcolor": "#EBF0F8",
           "linecolor": "#EBF0F8",
           "ticks": "",
           "title": {
            "standoff": 15
           },
           "zerolinecolor": "#EBF0F8",
           "zerolinewidth": 2
          }
         }
        },
        "title": {
         "font": {
          "color": "black",
          "size": 20
         },
         "text": "Monthly New Premium User Growth",
         "x": 0.5,
         "xanchor": "center"
        },
        "xaxis": {
         "gridcolor": "#e0e0e0",
         "nticks": 12,
         "showgrid": true,
         "tickangle": -45,
         "tickmode": "auto",
         "title": {
          "text": "Premium Start Month"
         }
        },
        "yaxis": {
         "gridcolor": "#e0e0e0",
         "showgrid": true,
         "title": {
          "text": "Number of New Premium Users"
         }
        }
       }
      }
     },
     "metadata": {},
     "output_type": "display_data"
    }
   ],
   "source": [
    "result6['premium_start_month'] = pd.to_datetime(result6['premium_start_month'])\n",
    "\n",
    "# Sort the DataFrame by month to ensure the line chart progresses correctly\n",
    "result6 = result6.sort_values(by='premium_start_month')\n",
    "\n",
    "# Create the Plotly line chart\n",
    "fig = go.Figure()\n",
    "\n",
    "fig.add_trace(go.Scatter(\n",
    "    x=result6['premium_start_month'],\n",
    "    y=result6['new_premium_users'],\n",
    "    mode='lines+markers',\n",
    "    name='New Premium Users',\n",
    "    line=dict(color='green', width=2),\n",
    "    marker=dict(size=8, symbol='circle', line=dict(width=1, color='DarkSlateGrey'))\n",
    "))\n",
    "\n",
    "# Update layout for title and labels\n",
    "fig.update_layout(\n",
    "    title={\n",
    "        'text': 'Monthly New Premium User Growth',\n",
    "        'x': 0.5, # Center the title\n",
    "        'xanchor': 'center',\n",
    "        'font': dict(size=20, color='black')\n",
    "    },\n",
    "    xaxis_title='Premium Start Month',\n",
    "    yaxis_title='Number of New Premium Users',\n",
    "    xaxis=dict(\n",
    "        tickmode='auto',\n",
    "        nticks=len(result6['premium_start_month']), # Adjust number of ticks based on data points\n",
    "        tickangle=-45,\n",
    "        showgrid=True,\n",
    "        gridcolor='#e0e0e0'\n",
    "    ),\n",
    "    yaxis=dict(\n",
    "        showgrid=True,\n",
    "        gridcolor='#e0e0e0'\n",
    "    ),\n",
    "    hovermode=\"x unified\", # Shows hover info for all traces at the same x-position\n",
    "    template=\"plotly_white\" # Use a clean white background template\n",
    ")\n"
   ]
  },
  {
   "cell_type": "markdown",
   "id": "5a3098ae",
   "metadata": {},
   "source": [
    "## - Premium User Churn"
   ]
  },
  {
   "cell_type": "markdown",
   "id": "2272d996",
   "metadata": {},
   "source": [
    "to represent the point at which a user's premium service effectively ends due to either cancellation or natural expiration, and they are no longer contributing revenue for that plan period. those whose premium plan's ends_at timestamp falls within that month. "
   ]
  },
  {
   "cell_type": "code",
   "execution_count": 26,
   "id": "1d46c5dd",
   "metadata": {},
   "outputs": [
    {
     "data": {
      "text/html": [
       "<div>\n",
       "<style scoped>\n",
       "    .dataframe tbody tr th:only-of-type {\n",
       "        vertical-align: middle;\n",
       "    }\n",
       "\n",
       "    .dataframe tbody tr th {\n",
       "        vertical-align: top;\n",
       "    }\n",
       "\n",
       "    .dataframe thead th {\n",
       "        text-align: right;\n",
       "    }\n",
       "</style>\n",
       "<table border=\"1\" class=\"dataframe\">\n",
       "  <thead>\n",
       "    <tr style=\"text-align: right;\">\n",
       "      <th></th>\n",
       "      <th>churn_month</th>\n",
       "      <th>churned_users_by_expiration</th>\n",
       "      <th>starting_active_subscribers</th>\n",
       "      <th>premium_churn_rate_percentage</th>\n",
       "    </tr>\n",
       "  </thead>\n",
       "  <tbody>\n",
       "    <tr>\n",
       "      <th>0</th>\n",
       "      <td>2023-01-01</td>\n",
       "      <td>0</td>\n",
       "      <td>10</td>\n",
       "      <td>0.000000</td>\n",
       "    </tr>\n",
       "    <tr>\n",
       "      <th>1</th>\n",
       "      <td>2023-02-01</td>\n",
       "      <td>4</td>\n",
       "      <td>23</td>\n",
       "      <td>17.391001</td>\n",
       "    </tr>\n",
       "    <tr>\n",
       "      <th>2</th>\n",
       "      <td>2023-03-01</td>\n",
       "      <td>4</td>\n",
       "      <td>43</td>\n",
       "      <td>9.302000</td>\n",
       "    </tr>\n",
       "    <tr>\n",
       "      <th>3</th>\n",
       "      <td>2023-04-01</td>\n",
       "      <td>10</td>\n",
       "      <td>67</td>\n",
       "      <td>14.925000</td>\n",
       "    </tr>\n",
       "    <tr>\n",
       "      <th>4</th>\n",
       "      <td>2023-05-01</td>\n",
       "      <td>12</td>\n",
       "      <td>89</td>\n",
       "      <td>13.483000</td>\n",
       "    </tr>\n",
       "    <tr>\n",
       "      <th>5</th>\n",
       "      <td>2023-06-01</td>\n",
       "      <td>22</td>\n",
       "      <td>112</td>\n",
       "      <td>19.643000</td>\n",
       "    </tr>\n",
       "    <tr>\n",
       "      <th>6</th>\n",
       "      <td>2023-07-01</td>\n",
       "      <td>11</td>\n",
       "      <td>129</td>\n",
       "      <td>8.527000</td>\n",
       "    </tr>\n",
       "    <tr>\n",
       "      <th>7</th>\n",
       "      <td>2023-08-01</td>\n",
       "      <td>23</td>\n",
       "      <td>155</td>\n",
       "      <td>14.839000</td>\n",
       "    </tr>\n",
       "    <tr>\n",
       "      <th>8</th>\n",
       "      <td>2023-09-01</td>\n",
       "      <td>22</td>\n",
       "      <td>183</td>\n",
       "      <td>12.022000</td>\n",
       "    </tr>\n",
       "    <tr>\n",
       "      <th>9</th>\n",
       "      <td>2023-10-01</td>\n",
       "      <td>20</td>\n",
       "      <td>235</td>\n",
       "      <td>8.511000</td>\n",
       "    </tr>\n",
       "    <tr>\n",
       "      <th>10</th>\n",
       "      <td>2023-11-01</td>\n",
       "      <td>33</td>\n",
       "      <td>270</td>\n",
       "      <td>12.222000</td>\n",
       "    </tr>\n",
       "    <tr>\n",
       "      <th>11</th>\n",
       "      <td>2023-12-01</td>\n",
       "      <td>76</td>\n",
       "      <td>278</td>\n",
       "      <td>27.337999</td>\n",
       "    </tr>\n",
       "    <tr>\n",
       "      <th>12</th>\n",
       "      <td>2024-01-01</td>\n",
       "      <td>88</td>\n",
       "      <td>268</td>\n",
       "      <td>32.835999</td>\n",
       "    </tr>\n",
       "    <tr>\n",
       "      <th>13</th>\n",
       "      <td>2024-02-01</td>\n",
       "      <td>1</td>\n",
       "      <td>261</td>\n",
       "      <td>0.383000</td>\n",
       "    </tr>\n",
       "    <tr>\n",
       "      <th>14</th>\n",
       "      <td>2024-03-01</td>\n",
       "      <td>2</td>\n",
       "      <td>261</td>\n",
       "      <td>0.766000</td>\n",
       "    </tr>\n",
       "    <tr>\n",
       "      <th>15</th>\n",
       "      <td>2024-04-01</td>\n",
       "      <td>3</td>\n",
       "      <td>261</td>\n",
       "      <td>1.149000</td>\n",
       "    </tr>\n",
       "    <tr>\n",
       "      <th>16</th>\n",
       "      <td>2024-05-01</td>\n",
       "      <td>7</td>\n",
       "      <td>261</td>\n",
       "      <td>2.682000</td>\n",
       "    </tr>\n",
       "    <tr>\n",
       "      <th>17</th>\n",
       "      <td>2024-06-01</td>\n",
       "      <td>5</td>\n",
       "      <td>258</td>\n",
       "      <td>1.938000</td>\n",
       "    </tr>\n",
       "    <tr>\n",
       "      <th>18</th>\n",
       "      <td>2024-07-01</td>\n",
       "      <td>8</td>\n",
       "      <td>257</td>\n",
       "      <td>3.113000</td>\n",
       "    </tr>\n",
       "    <tr>\n",
       "      <th>19</th>\n",
       "      <td>2024-08-01</td>\n",
       "      <td>8</td>\n",
       "      <td>257</td>\n",
       "      <td>3.113000</td>\n",
       "    </tr>\n",
       "    <tr>\n",
       "      <th>20</th>\n",
       "      <td>2024-09-01</td>\n",
       "      <td>7</td>\n",
       "      <td>256</td>\n",
       "      <td>2.734000</td>\n",
       "    </tr>\n",
       "    <tr>\n",
       "      <th>21</th>\n",
       "      <td>2024-10-01</td>\n",
       "      <td>7</td>\n",
       "      <td>255</td>\n",
       "      <td>2.745000</td>\n",
       "    </tr>\n",
       "    <tr>\n",
       "      <th>22</th>\n",
       "      <td>2024-11-01</td>\n",
       "      <td>7</td>\n",
       "      <td>254</td>\n",
       "      <td>2.756000</td>\n",
       "    </tr>\n",
       "    <tr>\n",
       "      <th>23</th>\n",
       "      <td>2024-12-01</td>\n",
       "      <td>3</td>\n",
       "      <td>254</td>\n",
       "      <td>1.181000</td>\n",
       "    </tr>\n",
       "  </tbody>\n",
       "</table>\n",
       "</div>"
      ],
      "text/plain": [
       "   churn_month  churned_users_by_expiration  starting_active_subscribers  \\\n",
       "0   2023-01-01                            0                           10   \n",
       "1   2023-02-01                            4                           23   \n",
       "2   2023-03-01                            4                           43   \n",
       "3   2023-04-01                           10                           67   \n",
       "4   2023-05-01                           12                           89   \n",
       "5   2023-06-01                           22                          112   \n",
       "6   2023-07-01                           11                          129   \n",
       "7   2023-08-01                           23                          155   \n",
       "8   2023-09-01                           22                          183   \n",
       "9   2023-10-01                           20                          235   \n",
       "10  2023-11-01                           33                          270   \n",
       "11  2023-12-01                           76                          278   \n",
       "12  2024-01-01                           88                          268   \n",
       "13  2024-02-01                            1                          261   \n",
       "14  2024-03-01                            2                          261   \n",
       "15  2024-04-01                            3                          261   \n",
       "16  2024-05-01                            7                          261   \n",
       "17  2024-06-01                            5                          258   \n",
       "18  2024-07-01                            8                          257   \n",
       "19  2024-08-01                            8                          257   \n",
       "20  2024-09-01                            7                          256   \n",
       "21  2024-10-01                            7                          255   \n",
       "22  2024-11-01                            7                          254   \n",
       "23  2024-12-01                            3                          254   \n",
       "\n",
       "    premium_churn_rate_percentage  \n",
       "0                        0.000000  \n",
       "1                       17.391001  \n",
       "2                        9.302000  \n",
       "3                       14.925000  \n",
       "4                       13.483000  \n",
       "5                       19.643000  \n",
       "6                        8.527000  \n",
       "7                       14.839000  \n",
       "8                       12.022000  \n",
       "9                        8.511000  \n",
       "10                      12.222000  \n",
       "11                      27.337999  \n",
       "12                      32.835999  \n",
       "13                       0.383000  \n",
       "14                       0.766000  \n",
       "15                       1.149000  \n",
       "16                       2.682000  \n",
       "17                       1.938000  \n",
       "18                       3.113000  \n",
       "19                       3.113000  \n",
       "20                       2.734000  \n",
       "21                       2.745000  \n",
       "22                       2.756000  \n",
       "23                       1.181000  "
      ]
     },
     "metadata": {},
     "output_type": "display_data"
    }
   ],
   "source": [
    "query7 = '''\n",
    "WITH MonthlyExpiringSubscriptions AS (\n",
    "    -- Count unique users whose premium subscription ENDS in each month\n",
    "    SELECT\n",
    "        DATE_TRUNC('month', ends_at) AS month,\n",
    "        COUNT(DISTINCT user_id) AS expiring_users_count\n",
    "    FROM\n",
    "        'premium.csv'\n",
    "    WHERE\n",
    "        ends_at IS NOT NULL\n",
    "    GROUP BY\n",
    "        1\n",
    "),\n",
    "MonthlyStartingActivePremium AS (\n",
    "    -- Identify unique premium users who were active at the START of each month\n",
    "    SELECT\n",
    "        DATE_TRUNC('month', calendar.month_start_date) AS month,\n",
    "        COUNT(DISTINCT p.user_id) AS active_users_at_month_start\n",
    "    FROM\n",
    "        (\n",
    "            -- UNNEST the generated series to get individual rows of month start dates\n",
    "            SELECT UNNEST(\n",
    "                GENERATE_SERIES(\n",
    "                    DATE_TRUNC('month', MIN(starts_at)),\n",
    "                    DATE_TRUNC('month', MAX(COALESCE(ends_at, canceled_at, CURRENT_DATE))),\n",
    "                    INTERVAL '1 month'\n",
    "                )\n",
    "            ) AS month_start_date\n",
    "            FROM 'premium.csv'\n",
    "        ) AS calendar\n",
    "    JOIN\n",
    "        'premium.csv' AS p\n",
    "        ON p.starts_at < calendar.month_start_date + INTERVAL '1 month' -- Started before or during the month\n",
    "        AND (\n",
    "               p.ends_at IS NULL OR p.ends_at >= calendar.month_start_date -- Ends after or during the month start (still active)\n",
    "            OR p.canceled_at IS NULL OR p.canceled_at >= calendar.month_start_date -- Canceled after or during the month start (still active if paid)\n",
    "        )\n",
    "    GROUP BY\n",
    "        1\n",
    ")\n",
    "SELECT\n",
    "    msap.month AS churn_month,\n",
    "    COALESCE(mes.expiring_users_count, 0) AS churned_users_by_expiration,\n",
    "    COALESCE(msap.active_users_at_month_start, 0) AS starting_active_subscribers,\n",
    "    CASE\n",
    "        WHEN COALESCE(msap.active_users_at_month_start, 0) > 0\n",
    "        THEN ROUND(CAST(COALESCE(mes.expiring_users_count, 0) AS REAL) * 100.0 / msap.active_users_at_month_start, 3)\n",
    "        ELSE 0.0\n",
    "    END AS premium_churn_rate_percentage\n",
    "FROM\n",
    "    MonthlyStartingActivePremium AS msap\n",
    "LEFT JOIN\n",
    "    MonthlyExpiringSubscriptions AS mes ON msap.month = mes.month\n",
    "ORDER BY\n",
    "    churn_month;\n",
    "\n",
    "'''\n",
    "result7 = con.execute(query7).df()\n",
    "display(result7)"
   ]
  }
 ],
 "metadata": {
  "kernelspec": {
   "display_name": "Python 3",
   "language": "python",
   "name": "python3"
  },
  "language_info": {
   "codemirror_mode": {
    "name": "ipython",
    "version": 3
   },
   "file_extension": ".py",
   "mimetype": "text/x-python",
   "name": "python",
   "nbconvert_exporter": "python",
   "pygments_lexer": "ipython3",
   "version": "3.9.13"
  }
 },
 "nbformat": 4,
 "nbformat_minor": 5
}
